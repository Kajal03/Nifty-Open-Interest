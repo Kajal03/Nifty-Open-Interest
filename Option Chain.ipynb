{
 "cells": [
  {
   "cell_type": "code",
   "execution_count": 1,
   "metadata": {},
   "outputs": [],
   "source": [
    "from bs4 import BeautifulSoup\n",
    "import requests\n",
    "import matplotlib.pyplot as plt\n",
    "import time\n",
    "import matplotlib\n",
    "import matplotlib.dates as mdates\n",
    "from datetime import datetime\n",
    "import numpy as np\n",
    "import pandas as pd"
   ]
  },
  {
   "cell_type": "code",
   "execution_count": 2,
   "metadata": {},
   "outputs": [
    {
     "name": "stdout",
     "output_type": "stream",
     "text": [
      "press 0 for put and 1 for call 1\n",
      "enter strike price 7000\n"
     ]
    }
   ],
   "source": [
    "cp=input(\"press 0 for put and 1 for call \")\n",
    "strike=input(\"enter strike price \")\n",
    "a_array=[]\n",
    "b_array=[]\n",
    "c_array=[]\n",
    "x = []"
   ]
  },
  {
   "cell_type": "code",
   "execution_count": 3,
   "metadata": {
    "scrolled": false
   },
   "outputs": [
    {
     "name": "stderr",
     "output_type": "stream",
     "text": [
      "/home/kajal/anaconda3/lib/python3.7/site-packages/pandas/plotting/_matplotlib/converter.py:103: FutureWarning: Using an implicitly registered datetime converter for a matplotlib plotting method. The converter was registered by pandas on import. Future versions of pandas will require you to explicitly register matplotlib converters.\n",
      "\n",
      "To register the converters:\n",
      "\t>>> from pandas.plotting import register_matplotlib_converters\n",
      "\t>>> register_matplotlib_converters()\n",
      "  warnings.warn(msg, FutureWarning)\n"
     ]
    },
    {
     "data": {
      "image/png": "[encoded data removed]",
      "text/plain": [
       "<Figure size 720x432 with 2 Axes>"
      ]
     },
     "metadata": {
      "needs_background": "light"
     },
     "output_type": "display_data"
    },
    {
     "ename": "KeyboardInterrupt",
     "evalue": "",
     "output_type": "error",
     "traceback": [
      "\u001b[0;31m---------------------------------------------------------------------------\u001b[0m",
      "\u001b[0;31mKeyboardInterrupt\u001b[0m                         Traceback (most recent call last)",
      "\u001b[0;32m<ipython-input-3-51b0d3e99421>\u001b[0m in \u001b[0;36m<module>\u001b[0;34m\u001b[0m\n\u001b[1;32m     61\u001b[0m     \u001b[0;31m#break\u001b[0m\u001b[0;34m\u001b[0m\u001b[0;34m\u001b[0m\u001b[0;34m\u001b[0m\u001b[0m\n\u001b[1;32m     62\u001b[0m \u001b[0;34m\u001b[0m\u001b[0m\n\u001b[0;32m---> 63\u001b[0;31m     \u001b[0mtime\u001b[0m\u001b[0;34m.\u001b[0m\u001b[0msleep\u001b[0m\u001b[0;34m(\u001b[0m\u001b[0;36m180\u001b[0m\u001b[0;34m)\u001b[0m\u001b[0;34m\u001b[0m\u001b[0;34m\u001b[0m\u001b[0m\n\u001b[0m\u001b[1;32m     64\u001b[0m \u001b[0;34m\u001b[0m\u001b[0m\n\u001b[1;32m     65\u001b[0m \u001b[0;34m\u001b[0m\u001b[0m\n",
      "\u001b[0;31mKeyboardInterrupt\u001b[0m: "
     ]
    }
   ],
   "source": [
    "url='https://www1.nseindia.com/live_market/dynaContent/live_watch/option_chain/optionDates.jsp?symbol=NIFTY&instrument=OPTIDX&strike='+str(strike)+'.00'\n",
    "headers = {'User-Agent':'Mozilla/5.0 (X11; Linux x86_64) AppleWebKit/537.36 (KHTML, like Gecko) Chrome/81.0.4044.92 Safari/537.36'}\n",
    "\n",
    "str = str(strike)\n",
    "\n",
    "if(cp==1):\n",
    "        str = str + ' Call'\n",
    "else:\n",
    "        str = str + ' Put'\n",
    "\n",
    "\n",
    "while(True):\n",
    "    response = requests.get(url,headers=headers)\n",
    "    soup = BeautifulSoup(response.text,'html.parser')\n",
    "\n",
    "    \n",
    "    a=soup.find(id=\"wrapper_btm\").findAll('tr')[0].findAll('td')[1].findAll('span')[0].findAll('b')[0].getText()\n",
    "    a=float(a[6:])\n",
    "    a_array.append(a)\n",
    "\n",
    "    if cp==0:\n",
    "        b=soup.find(id=\"octable\").findAll('tr')[3].findAll('td')[21].getText()\n",
    "        b=float(b.replace(',',''))\n",
    "        b_array.append(b)\n",
    "    else:\n",
    "        b=soup.find(id=\"octable\").findAll('tr')[3].findAll('td')[1].getText()\n",
    "        b=float(b.replace(',',''))\n",
    "        b_array.append(b)\n",
    "    \n",
    "    c=soup.find(id=\"wrapper_btm\").findAll('tr')[0].findAll('td')[1].findAll('span')[1].getText()\n",
    "    c=c[19:27]\n",
    "    c=datetime.strptime(c,'%H:%M:%S')\n",
    "    \n",
    "    c_array.append(c)\n",
    "    \n",
    "    \n",
    "    #print(\" \")\n",
    "    #print(\"NIFTY \", a_array)\n",
    "    #print(\"OI    \",b_array)\n",
    "    #print(c_array)\n",
    "    \n",
    "\n",
    "    \n",
    "    fig,ax = plt.subplots(figsize=(10, 6))\n",
    "    ax.plot(c_array, a_array, color=\"red\", marker=\"o\", label='Nifty')\n",
    "    ax.set_xlabel(\"Time\",fontsize=14)\n",
    "\n",
    "    ax.set_ylabel(\"NIFTY\",fontsize=14, color='red')\n",
    "    ax2=ax.twinx()\n",
    "\n",
    "    \n",
    "    ax2.plot(c_array, b_array,color=\"blue\",marker=\"o\", label='Open Interest')\n",
    "    ax2.set_ylabel(\"OI\",fontsize=14, color='blue')\n",
    "    plt.gcf().autofmt_xdate()\n",
    "    myFmt = mdates.DateFormatter('%H:%M')\n",
    "    plt.gca().xaxis.set_major_formatter(myFmt)\n",
    "    plt.legend()\n",
    "    plt.title(str)\n",
    "    plt.show()\n",
    "    \n",
    "    #break\n",
    "    \n",
    "    time.sleep(180)\n",
    "    \n",
    "    \n"
   ]
  },
  {
   "cell_type": "code",
   "execution_count": 69,
   "metadata": {},
   "outputs": [],
   "source": [
    "li = [a_array, b_array, c_array]"
   ]
  },
  {
   "cell_type": "code",
   "execution_count": 70,
   "metadata": {},
   "outputs": [],
   "source": [
    "df = pd.DataFrame(li)\n",
    "df = df.transpose()\n",
    "df.columns = [\"NIFTY\", \"OI\", \"TIME\"]\n",
    "df.to_excel('output.xls')"
   ]
  },
  {
   "cell_type": "code",
   "execution_count": 71,
   "metadata": {},
   "outputs": [
    {
     "data": {
      "text/html": [
       "<div>\n",
       "<style scoped>\n",
       "    .dataframe tbody tr th:only-of-type {\n",
       "        vertical-align: middle;\n",
       "    }\n",
       "\n",
       "    .dataframe tbody tr th {\n",
       "        vertical-align: top;\n",
       "    }\n",
       "\n",
       "    .dataframe thead th {\n",
       "        text-align: right;\n",
       "    }\n",
       "</style>\n",
       "<table border=\"1\" class=\"dataframe\">\n",
       "  <thead>\n",
       "    <tr style=\"text-align: right;\">\n",
       "      <th></th>\n",
       "      <th>NIFTY</th>\n",
       "      <th>OI</th>\n",
       "      <th>TIME</th>\n",
       "    </tr>\n",
       "  </thead>\n",
       "  <tbody>\n",
       "    <tr>\n",
       "      <td>0</td>\n",
       "      <td>8992.8</td>\n",
       "      <td>158025</td>\n",
       "      <td>1900-01-01 15:30:30</td>\n",
       "    </tr>\n",
       "  </tbody>\n",
       "</table>\n",
       "</div>"
      ],
      "text/plain": [
       "    NIFTY      OI                TIME\n",
       "0  8992.8  158025 1900-01-01 15:30:30"
      ]
     },
     "execution_count": 71,
     "metadata": {},
     "output_type": "execute_result"
    }
   ],
   "source": [
    "df"
   ]
  },
  {
   "cell_type": "code",
   "execution_count": null,
   "metadata": {},
   "outputs": [],
   "source": []
  }
 ],
 "metadata": {
  "kernelspec": {
   "display_name": "Python 3",
   "language": "python",
   "name": "python3"
  },
  "language_info": {
   "codemirror_mode": {
    "name": "ipython",
    "version": 3
   },
   "file_extension": ".py",
   "mimetype": "text/x-python",
   "name": "python",
   "nbconvert_exporter": "python",
   "pygments_lexer": "ipython3",
   "version": "3.7.4"
  }
 },
 "nbformat": 4,
 "nbformat_minor": 2
}
